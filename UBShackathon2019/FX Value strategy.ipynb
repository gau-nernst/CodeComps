{
 "cells": [
  {
   "cell_type": "markdown",
   "metadata": {
    "colab_type": "text",
    "id": "bjAMpqdYlr5Z"
   },
   "source": [
    "# FX Value strategy\n"
   ]
  },
  {
   "cell_type": "markdown",
   "metadata": {
    "colab_type": "text",
    "id": "B1bdlhLPmBqJ"
   },
   "source": [
    "## Model to determine Fair value\n",
    "\n",
    "Assume we use 100 USD to buy GBP with the exchange rate $FX_1$ (GBP/USD). This yields $100FX_1$ GBP.\n",
    "\n",
    "With this $100FX_1$ GBP we invest in the UK market at a return $r_{UK}$. This yields $100FX_1(1+r_{UK})$ GBP at the end of the period.\n",
    "\n",
    "If instead, we invest the original 100 USD in the US market, we will get $100(1+r_{US})$ USD at the end of the period.\n",
    "\n",
    "Now if we use this amount of USD to buy GBP with exchange rate $FX_2$ (GBP/USD), we will have $100FX_2(1+r_{US})$ GBP.\n",
    "\n",
    "Assumming equilibrium, the two amount should be the same; otherwise investors will make use of the rate differences to earn profit. In other words,\n",
    "\n",
    "$$FX_1 (1+r_{UK}) = FX_2 (1+r_{US})$$\n",
    "\n",
    "And we can get:\n",
    "\n",
    "$$FX_2 = FX_1 \\frac{1+r_{UK}}{1+r_{US}}$$\n",
    "\n",
    "This will be our model to estimate the Fair value of current exchange rate $FX_2$\n",
    "\n",
    "## Approach to obtain required variables\n",
    "\n",
    "The market return for each country is computed by finding the percentage change of its Stock market index over a chosen period. We choose 1 month for our strategy.\n",
    "\n",
    "The past exchange rate $FX_1$ is found by computing the rolling average of spot exchange rate, one period before the current exchange rate. It is the same period as above, 1 month.\n",
    "\n",
    "## Strategy\n",
    "\n",
    "If **spot exchange rate < estimated fair value**, we **buy now** and enter a forward contract to **sell in the future** (long position)\n",
    "\n",
    "If **spot exchange rate > estimated fair value**, we **sell now** and enter a forward contract to **buy in the future** (short position)\n",
    "\n",
    "All forward contracts are for delivery in **1 month**.\n",
    "\n",
    "Note that we have a _threshold_ to decide whether we will proceed with entering the future contract. The purpose of this threshold is to reject insignificant deviations from the fair value.\n",
    "\n",
    "## Limitation\n",
    "\n",
    "Due to limited resources and time constraint, we only test our strategy against GBP/USD exchange rate."
   ]
  },
  {
   "cell_type": "markdown",
   "metadata": {
    "colab_type": "text",
    "id": "HNX8nVvuSr_M"
   },
   "source": [
    "## Set up\n",
    "Import packages and define helper functions"
   ]
  },
  {
   "cell_type": "code",
   "execution_count": 0,
   "metadata": {
    "colab": {},
    "colab_type": "code",
    "id": "bIi1bvdkQM9H"
   },
   "outputs": [],
   "source": [
    "# Import necessary packages\n",
    "import pandas as pd\n",
    "import numpy as np\n",
    "import datetime\n",
    "import matplotlib\n",
    "import matplotlib.pyplot as plt\n",
    "import seaborn as sns\n",
    "from scipy.stats import stats\n",
    "import requests\n",
    "import json\n",
    "\n",
    "%matplotlib inline\n",
    "plt.style.use('seaborn')"
   ]
  },
  {
   "cell_type": "code",
   "execution_count": 0,
   "metadata": {
    "colab": {},
    "colab_type": "code",
    "id": "11VjsNQ6Qtfi"
   },
   "outputs": [],
   "source": [
    "# Define a function to query data\n",
    "\n",
    "def get_data_request(url, access_token, requestData):\n",
    "    '''make HTTP GET request'''\n",
    "    dResp = requests.get(url, headers = {'X-api-key': access_token}, params = requestData);       \n",
    "\n",
    "    \n",
    "    if dResp.status_code != 200:\n",
    "        print(\"Unable to get data. Code %s, Message: %s\" % (dResp.status_code, dResp.text));\n",
    "    else:\n",
    "        print(\"Data access successful\")\n",
    "        jResp = json.loads(dResp.text);\n",
    "        return jResp"
   ]
  },
  {
   "cell_type": "code",
   "execution_count": 0,
   "metadata": {
    "colab": {},
    "colab_type": "code",
    "id": "uQ-674QOUd_5"
   },
   "outputs": [],
   "source": [
    "# Define a function to retrieve data from Refinitiv Data Science Accelerator\n",
    "# Default window time period is from 2016-11-01 to 2018-01-01\n",
    "\n",
    "def query_refinitiv_data(ric,start_date='2016-11-01',end_date='2018-01-01'):\n",
    "  access_token = '123456789'  # your personal key for Data Science Accelerator access to Pricing Data\n",
    "  RESOURCE_ENDPOINT = \"https://dsa-stg-edp-api.fr-nonprod.aws.thomsonreuters.com/data/historical-pricing/beta1/views/summaries/\" + ric\n",
    "\n",
    "  requestData = {\n",
    "      \"interval\": \"P1D\",\n",
    "      \"start\": start_date,\n",
    "      \"end\": end_date,\n",
    "      \"fields\": 'TRDPRC_1' #BID,ASK,OPEN_PRC,HIGH_1,LOW_1,TRDPRC_1,NUM_MOVES,TRNOVR_UNS\n",
    "  };\n",
    "\n",
    "  # Get the data from Refinitiv server\n",
    "  jResp = get_data_request(RESOURCE_ENDPOINT, access_token, requestData)\n",
    "\n",
    "  # Create a DataFrame from the retrieved data\n",
    "  if jResp is not None:\n",
    "      data = jResp[0]['data']\n",
    "      headers = jResp[0]['headers']  \n",
    "      names = [headers[x]['name'] for x in range(len(headers))]\n",
    "      df = pd.DataFrame(data, columns=names )\n",
    "\n",
    "      # Make DATE into DateTime object and make it the Index of df\n",
    "      df.DATE = pd.to_datetime(df.DATE)\n",
    "      df = df.set_index('DATE')\n",
    "\n",
    "      df = df.rename(columns={'TRDPRC_1': 'Price'})\n",
    "      df = df.sort_index()\n",
    "      \n",
    "      return df"
   ]
  },
  {
   "cell_type": "markdown",
   "metadata": {
    "colab_type": "text",
    "id": "QuJSckFRToqK"
   },
   "source": [
    "## Query spot FX data"
   ]
  },
  {
   "cell_type": "code",
   "execution_count": 4,
   "metadata": {
    "colab": {
     "base_uri": "https://localhost:8080/",
     "height": 242
    },
    "colab_type": "code",
    "executionInfo": {
     "elapsed": 3879,
     "status": "ok",
     "timestamp": 1571067376417,
     "user": {
      "displayName": "Thien Tran",
      "photoUrl": "",
      "userId": "09210653245768227820"
     },
     "user_tz": -480
    },
    "id": "CzyzAl5wRrHl",
    "outputId": "876b337f-a3d8-46ca-c902-d35bb7c9be62"
   },
   "outputs": [
    {
     "name": "stdout",
     "output_type": "stream",
     "text": [
      "Data access successful\n"
     ]
    },
    {
     "data": {
      "text/html": [
       "<div>\n",
       "<style scoped>\n",
       "    .dataframe tbody tr th:only-of-type {\n",
       "        vertical-align: middle;\n",
       "    }\n",
       "\n",
       "    .dataframe tbody tr th {\n",
       "        vertical-align: top;\n",
       "    }\n",
       "\n",
       "    .dataframe thead th {\n",
       "        text-align: right;\n",
       "    }\n",
       "</style>\n",
       "<table border=\"1\" class=\"dataframe\">\n",
       "  <thead>\n",
       "    <tr style=\"text-align: right;\">\n",
       "      <th></th>\n",
       "      <th>GBP/USD</th>\n",
       "    </tr>\n",
       "    <tr>\n",
       "      <th>DATE</th>\n",
       "      <th></th>\n",
       "    </tr>\n",
       "  </thead>\n",
       "  <tbody>\n",
       "    <tr>\n",
       "      <th>2017-12-26</th>\n",
       "      <td>78.1</td>\n",
       "    </tr>\n",
       "    <tr>\n",
       "      <th>2017-12-27</th>\n",
       "      <td>78.0</td>\n",
       "    </tr>\n",
       "    <tr>\n",
       "      <th>2017-12-28</th>\n",
       "      <td>78.0</td>\n",
       "    </tr>\n",
       "    <tr>\n",
       "      <th>2017-12-29</th>\n",
       "      <td>78.2</td>\n",
       "    </tr>\n",
       "    <tr>\n",
       "      <th>2018-01-01</th>\n",
       "      <td>78.2</td>\n",
       "    </tr>\n",
       "  </tbody>\n",
       "</table>\n",
       "</div>"
      ],
      "text/plain": [
       "            GBP/USD\n",
       "DATE               \n",
       "2017-12-26     78.1\n",
       "2017-12-27     78.0\n",
       "2017-12-28     78.0\n",
       "2017-12-29     78.2\n",
       "2018-01-01     78.2"
      ]
     },
     "execution_count": 4,
     "metadata": {
      "tags": []
     },
     "output_type": "execute_result"
    }
   ],
   "source": [
    "# Query spot FX data and create a DataFrame from the data\n",
    "GBP_USD_df = query_refinitiv_data('=GBP')\n",
    "GBP_USD_df = GBP_USD_df.rename(columns={'Price':'GBP/USD'})\n",
    "GBP_USD_df.tail()"
   ]
  },
  {
   "cell_type": "code",
   "execution_count": 5,
   "metadata": {
    "colab": {
     "base_uri": "https://localhost:8080/",
     "height": 409
    },
    "colab_type": "code",
    "executionInfo": {
     "elapsed": 3866,
     "status": "ok",
     "timestamp": 1571067376419,
     "user": {
      "displayName": "Thien Tran",
      "photoUrl": "",
      "userId": "09210653245768227820"
     },
     "user_tz": -480
    },
    "id": "nX91dW8XSm79",
    "outputId": "e93c122c-f0a6-49a7-939c-3b6d5fd5c74d"
   },
   "outputs": [
    {
     "data": {
      "text/plain": [
       "Text(0, 0.5, 'Price')"
      ]
     },
     "execution_count": 5,
     "metadata": {
      "tags": []
     },
     "output_type": "execute_result"
    },
    {
     "data": {
      "image/png": "[encoded data removed]",
      "text/plain": [
       "<Figure size 576x396 with 1 Axes>"
      ]
     },
     "metadata": {
      "tags": []
     },
     "output_type": "display_data"
    }
   ],
   "source": [
    "GBP_USD_df.plot(title= 'GBP Spot Price')\n",
    "plt.xlabel('Date', fontsize=15)\n",
    "plt.ylabel('Price', fontsize=15)"
   ]
  },
  {
   "cell_type": "markdown",
   "metadata": {
    "colab_type": "text",
    "id": "SvRfiRE3Tul2"
   },
   "source": [
    "## Query Stock market indices\n",
    "\n",
    "We choose the following Stock market index for US and UK\n",
    "\n",
    "Country|Index\n",
    "-------|---\n",
    "US     |SPX\n",
    "GBP     |FTSE"
   ]
  },
  {
   "cell_type": "code",
   "execution_count": 6,
   "metadata": {
    "colab": {
     "base_uri": "https://localhost:8080/",
     "height": 242
    },
    "colab_type": "code",
    "executionInfo": {
     "elapsed": 5262,
     "status": "ok",
     "timestamp": 1571067377833,
     "user": {
      "displayName": "Thien Tran",
      "photoUrl": "",
      "userId": "09210653245768227820"
     },
     "user_tz": -480
    },
    "id": "kLunDdJOSo7d",
    "outputId": "0192cce9-7c8a-4d91-af39-c20a740baf7e"
   },
   "outputs": [
    {
     "name": "stdout",
     "output_type": "stream",
     "text": [
      "Data access successful\n"
     ]
    },
    {
     "data": {
      "text/html": [
       "<div>\n",
       "<style scoped>\n",
       "    .dataframe tbody tr th:only-of-type {\n",
       "        vertical-align: middle;\n",
       "    }\n",
       "\n",
       "    .dataframe tbody tr th {\n",
       "        vertical-align: top;\n",
       "    }\n",
       "\n",
       "    .dataframe thead th {\n",
       "        text-align: right;\n",
       "    }\n",
       "</style>\n",
       "<table border=\"1\" class=\"dataframe\">\n",
       "  <thead>\n",
       "    <tr style=\"text-align: right;\">\n",
       "      <th></th>\n",
       "      <th>SPX</th>\n",
       "    </tr>\n",
       "    <tr>\n",
       "      <th>DATE</th>\n",
       "      <th></th>\n",
       "    </tr>\n",
       "  </thead>\n",
       "  <tbody>\n",
       "    <tr>\n",
       "      <th>2017-12-22</th>\n",
       "      <td>2683.34</td>\n",
       "    </tr>\n",
       "    <tr>\n",
       "      <th>2017-12-26</th>\n",
       "      <td>2680.50</td>\n",
       "    </tr>\n",
       "    <tr>\n",
       "      <th>2017-12-27</th>\n",
       "      <td>2682.62</td>\n",
       "    </tr>\n",
       "    <tr>\n",
       "      <th>2017-12-28</th>\n",
       "      <td>2687.54</td>\n",
       "    </tr>\n",
       "    <tr>\n",
       "      <th>2017-12-29</th>\n",
       "      <td>2673.61</td>\n",
       "    </tr>\n",
       "  </tbody>\n",
       "</table>\n",
       "</div>"
      ],
      "text/plain": [
       "                SPX\n",
       "DATE               \n",
       "2017-12-22  2683.34\n",
       "2017-12-26  2680.50\n",
       "2017-12-27  2682.62\n",
       "2017-12-28  2687.54\n",
       "2017-12-29  2673.61"
      ]
     },
     "execution_count": 6,
     "metadata": {
      "tags": []
     },
     "output_type": "execute_result"
    }
   ],
   "source": [
    "SPX_df = query_refinitiv_data('.SPX')\n",
    "SPX_df = SPX_df.rename(columns={'Price': 'SPX'})\n",
    "SPX_df.tail()"
   ]
  },
  {
   "cell_type": "code",
   "execution_count": 7,
   "metadata": {
    "colab": {
     "base_uri": "https://localhost:8080/",
     "height": 242
    },
    "colab_type": "code",
    "executionInfo": {
     "elapsed": 6890,
     "status": "ok",
     "timestamp": 1571067379474,
     "user": {
      "displayName": "Thien Tran",
      "photoUrl": "",
      "userId": "09210653245768227820"
     },
     "user_tz": -480
    },
    "id": "ZHNMf0luUQUL",
    "outputId": "56762bf3-d550-4ae2-baa3-2c8c7c4f299a"
   },
   "outputs": [
    {
     "name": "stdout",
     "output_type": "stream",
     "text": [
      "Data access successful\n"
     ]
    },
    {
     "data": {
      "text/html": [
       "<div>\n",
       "<style scoped>\n",
       "    .dataframe tbody tr th:only-of-type {\n",
       "        vertical-align: middle;\n",
       "    }\n",
       "\n",
       "    .dataframe tbody tr th {\n",
       "        vertical-align: top;\n",
       "    }\n",
       "\n",
       "    .dataframe thead th {\n",
       "        text-align: right;\n",
       "    }\n",
       "</style>\n",
       "<table border=\"1\" class=\"dataframe\">\n",
       "  <thead>\n",
       "    <tr style=\"text-align: right;\">\n",
       "      <th></th>\n",
       "      <th>FTSE</th>\n",
       "    </tr>\n",
       "    <tr>\n",
       "      <th>DATE</th>\n",
       "      <th></th>\n",
       "    </tr>\n",
       "  </thead>\n",
       "  <tbody>\n",
       "    <tr>\n",
       "      <th>2017-12-21</th>\n",
       "      <td>7603.98</td>\n",
       "    </tr>\n",
       "    <tr>\n",
       "      <th>2017-12-22</th>\n",
       "      <td>7592.66</td>\n",
       "    </tr>\n",
       "    <tr>\n",
       "      <th>2017-12-27</th>\n",
       "      <td>7620.68</td>\n",
       "    </tr>\n",
       "    <tr>\n",
       "      <th>2017-12-28</th>\n",
       "      <td>7622.88</td>\n",
       "    </tr>\n",
       "    <tr>\n",
       "      <th>2017-12-29</th>\n",
       "      <td>7687.77</td>\n",
       "    </tr>\n",
       "  </tbody>\n",
       "</table>\n",
       "</div>"
      ],
      "text/plain": [
       "               FTSE\n",
       "DATE               \n",
       "2017-12-21  7603.98\n",
       "2017-12-22  7592.66\n",
       "2017-12-27  7620.68\n",
       "2017-12-28  7622.88\n",
       "2017-12-29  7687.77"
      ]
     },
     "execution_count": 7,
     "metadata": {
      "tags": []
     },
     "output_type": "execute_result"
    }
   ],
   "source": [
    "FTSE_df = query_refinitiv_data('.FTSE')\n",
    "FTSE_df = FTSE_df.rename(columns={'Price': 'FTSE'})\n",
    "FTSE_df.tail()"
   ]
  },
  {
   "cell_type": "markdown",
   "metadata": {
    "colab_type": "text",
    "id": "P3LL5DaBpZjB"
   },
   "source": [
    "## Prepare data for GBP/USD"
   ]
  },
  {
   "cell_type": "markdown",
   "metadata": {
    "colab_type": "text",
    "id": "zAxumH_3piEc"
   },
   "source": [
    "Combine GBP/USD, SPX and FTSE into 1 DataFrame"
   ]
  },
  {
   "cell_type": "code",
   "execution_count": 8,
   "metadata": {
    "colab": {
     "base_uri": "https://localhost:8080/",
     "height": 225
    },
    "colab_type": "code",
    "executionInfo": {
     "elapsed": 6878,
     "status": "ok",
     "timestamp": 1571067379478,
     "user": {
      "displayName": "Thien Tran",
      "photoUrl": "",
      "userId": "09210653245768227820"
     },
     "user_tz": -480
    },
    "id": "L567DalvYWUb",
    "outputId": "3a1894bb-7d16-4c9d-ba34-6abdad5ab8ff"
   },
   "outputs": [
    {
     "data": {
      "text/html": [
       "<div>\n",
       "<style scoped>\n",
       "    .dataframe tbody tr th:only-of-type {\n",
       "        vertical-align: middle;\n",
       "    }\n",
       "\n",
       "    .dataframe tbody tr th {\n",
       "        vertical-align: top;\n",
       "    }\n",
       "\n",
       "    .dataframe thead th {\n",
       "        text-align: right;\n",
       "    }\n",
       "</style>\n",
       "<table border=\"1\" class=\"dataframe\">\n",
       "  <thead>\n",
       "    <tr style=\"text-align: right;\">\n",
       "      <th></th>\n",
       "      <th>GBP/USD</th>\n",
       "      <th>SPX</th>\n",
       "      <th>FTSE</th>\n",
       "    </tr>\n",
       "    <tr>\n",
       "      <th>DATE</th>\n",
       "      <th></th>\n",
       "      <th></th>\n",
       "      <th></th>\n",
       "    </tr>\n",
       "  </thead>\n",
       "  <tbody>\n",
       "    <tr>\n",
       "      <th>2017-12-26</th>\n",
       "      <td>78.1</td>\n",
       "      <td>2680.50</td>\n",
       "      <td>7592.66</td>\n",
       "    </tr>\n",
       "    <tr>\n",
       "      <th>2017-12-27</th>\n",
       "      <td>78.0</td>\n",
       "      <td>2682.62</td>\n",
       "      <td>7620.68</td>\n",
       "    </tr>\n",
       "    <tr>\n",
       "      <th>2017-12-28</th>\n",
       "      <td>78.0</td>\n",
       "      <td>2687.54</td>\n",
       "      <td>7622.88</td>\n",
       "    </tr>\n",
       "    <tr>\n",
       "      <th>2017-12-29</th>\n",
       "      <td>78.2</td>\n",
       "      <td>2673.61</td>\n",
       "      <td>7687.77</td>\n",
       "    </tr>\n",
       "    <tr>\n",
       "      <th>2018-01-01</th>\n",
       "      <td>78.2</td>\n",
       "      <td>2673.61</td>\n",
       "      <td>7687.77</td>\n",
       "    </tr>\n",
       "  </tbody>\n",
       "</table>\n",
       "</div>"
      ],
      "text/plain": [
       "            GBP/USD      SPX     FTSE\n",
       "DATE                                 \n",
       "2017-12-26     78.1  2680.50  7592.66\n",
       "2017-12-27     78.0  2682.62  7620.68\n",
       "2017-12-28     78.0  2687.54  7622.88\n",
       "2017-12-29     78.2  2673.61  7687.77\n",
       "2018-01-01     78.2  2673.61  7687.77"
      ]
     },
     "execution_count": 8,
     "metadata": {
      "tags": []
     },
     "output_type": "execute_result"
    }
   ],
   "source": [
    "GBP_USD_df = pd.merge(GBP_USD_df,SPX_df,how='outer',left_index=True,right_index=True)\n",
    "GBP_USD_df = pd.merge(GBP_USD_df,FTSE_df,how='outer',left_index=True,right_index=True)\n",
    "GBP_USD_df.fillna(method='ffill',inplace=True)\n",
    "GBP_USD_df.tail()"
   ]
  },
  {
   "cell_type": "markdown",
   "metadata": {
    "colab_type": "text",
    "id": "gsFM8QUIp7r5"
   },
   "source": [
    "Calculate moving average of the indices, which provide a better estimate for the Intrinsic value of those indices"
   ]
  },
  {
   "cell_type": "code",
   "execution_count": 9,
   "metadata": {
    "colab": {
     "base_uri": "https://localhost:8080/",
     "height": 225
    },
    "colab_type": "code",
    "executionInfo": {
     "elapsed": 6868,
     "status": "ok",
     "timestamp": 1571067379481,
     "user": {
      "displayName": "Thien Tran",
      "photoUrl": "",
      "userId": "09210653245768227820"
     },
     "user_tz": -480
    },
    "id": "-5GRWcXbZhtv",
    "outputId": "ce7a162d-89af-490a-ee43-9e1121999f73"
   },
   "outputs": [
    {
     "data": {
      "text/html": [
       "<div>\n",
       "<style scoped>\n",
       "    .dataframe tbody tr th:only-of-type {\n",
       "        vertical-align: middle;\n",
       "    }\n",
       "\n",
       "    .dataframe tbody tr th {\n",
       "        vertical-align: top;\n",
       "    }\n",
       "\n",
       "    .dataframe thead th {\n",
       "        text-align: right;\n",
       "    }\n",
       "</style>\n",
       "<table border=\"1\" class=\"dataframe\">\n",
       "  <thead>\n",
       "    <tr style=\"text-align: right;\">\n",
       "      <th></th>\n",
       "      <th>GBP/USD</th>\n",
       "      <th>SPX</th>\n",
       "      <th>FTSE</th>\n",
       "      <th>GBP/USD 5D</th>\n",
       "      <th>SPX MA 5D</th>\n",
       "      <th>FTSE MA 5D</th>\n",
       "    </tr>\n",
       "    <tr>\n",
       "      <th>DATE</th>\n",
       "      <th></th>\n",
       "      <th></th>\n",
       "      <th></th>\n",
       "      <th></th>\n",
       "      <th></th>\n",
       "      <th></th>\n",
       "    </tr>\n",
       "  </thead>\n",
       "  <tbody>\n",
       "    <tr>\n",
       "      <th>2017-12-26</th>\n",
       "      <td>78.1</td>\n",
       "      <td>2680.50</td>\n",
       "      <td>7592.66</td>\n",
       "      <td>78.10</td>\n",
       "      <td>2682.200</td>\n",
       "      <td>7581.436</td>\n",
       "    </tr>\n",
       "    <tr>\n",
       "      <th>2017-12-27</th>\n",
       "      <td>78.0</td>\n",
       "      <td>2682.62</td>\n",
       "      <td>7620.68</td>\n",
       "      <td>78.06</td>\n",
       "      <td>2682.874</td>\n",
       "      <td>7600.528</td>\n",
       "    </tr>\n",
       "    <tr>\n",
       "      <th>2017-12-28</th>\n",
       "      <td>78.0</td>\n",
       "      <td>2687.54</td>\n",
       "      <td>7622.88</td>\n",
       "      <td>78.06</td>\n",
       "      <td>2683.468</td>\n",
       "      <td>7604.308</td>\n",
       "    </tr>\n",
       "    <tr>\n",
       "      <th>2017-12-29</th>\n",
       "      <td>78.2</td>\n",
       "      <td>2673.61</td>\n",
       "      <td>7687.77</td>\n",
       "      <td>78.08</td>\n",
       "      <td>2681.522</td>\n",
       "      <td>7623.330</td>\n",
       "    </tr>\n",
       "    <tr>\n",
       "      <th>2018-01-01</th>\n",
       "      <td>78.2</td>\n",
       "      <td>2673.61</td>\n",
       "      <td>7687.77</td>\n",
       "      <td>78.10</td>\n",
       "      <td>2679.576</td>\n",
       "      <td>7642.352</td>\n",
       "    </tr>\n",
       "  </tbody>\n",
       "</table>\n",
       "</div>"
      ],
      "text/plain": [
       "            GBP/USD      SPX     FTSE  GBP/USD 5D  SPX MA 5D  FTSE MA 5D\n",
       "DATE                                                                    \n",
       "2017-12-26     78.1  2680.50  7592.66       78.10   2682.200    7581.436\n",
       "2017-12-27     78.0  2682.62  7620.68       78.06   2682.874    7600.528\n",
       "2017-12-28     78.0  2687.54  7622.88       78.06   2683.468    7604.308\n",
       "2017-12-29     78.2  2673.61  7687.77       78.08   2681.522    7623.330\n",
       "2018-01-01     78.2  2673.61  7687.77       78.10   2679.576    7642.352"
      ]
     },
     "execution_count": 9,
     "metadata": {
      "tags": []
     },
     "output_type": "execute_result"
    }
   ],
   "source": [
    "GBP_USD_df['GBP/USD 5D'] = GBP_USD_df['GBP/USD'].rolling(5).mean()\n",
    "GBP_USD_df['SPX MA 5D'] = GBP_USD_df['SPX'].rolling(5).mean()\n",
    "GBP_USD_df['FTSE MA 5D'] = GBP_USD_df['FTSE'].rolling(5).mean()\n",
    "GBP_USD_df.tail()"
   ]
  },
  {
   "cell_type": "markdown",
   "metadata": {
    "colab_type": "text",
    "id": "ECAxnYg-qDOT"
   },
   "source": [
    "Plot for visualization"
   ]
  },
  {
   "cell_type": "code",
   "execution_count": 10,
   "metadata": {
    "colab": {
     "base_uri": "https://localhost:8080/",
     "height": 745
    },
    "colab_type": "code",
    "executionInfo": {
     "elapsed": 8274,
     "status": "ok",
     "timestamp": 1571067380901,
     "user": {
      "displayName": "Thien Tran",
      "photoUrl": "",
      "userId": "09210653245768227820"
     },
     "user_tz": -480
    },
    "id": "-jbbuTuCe5aO",
    "outputId": "2086e731-422c-4c70-8356-6378d3aa6c74"
   },
   "outputs": [
    {
     "data": {
      "text/plain": [
       "<matplotlib.axes._subplots.AxesSubplot at 0x7f9b44cc5160>"
      ]
     },
     "execution_count": 10,
     "metadata": {
      "tags": []
     },
     "output_type": "execute_result"
    },
    {
     "data": {
      "image/png": "[encoded data removed]",
      "text/plain": [
       "<Figure size 576x396 with 1 Axes>"
      ]
     },
     "metadata": {
      "tags": []
     },
     "output_type": "display_data"
    },
    {
     "data": {
      "image/png": "[encoded data removed]",
      "text/plain": [
       "<Figure size 576x396 with 1 Axes>"
      ]
     },
     "metadata": {
      "tags": []
     },
     "output_type": "display_data"
    }
   ],
   "source": [
    "GBP_USD_df.loc[:,['SPX','SPX MA 5D']].plot()\n",
    "GBP_USD_df.loc[:,['FTSE','FTSE MA 5D']].plot()"
   ]
  },
  {
   "cell_type": "code",
   "execution_count": 11,
   "metadata": {
    "colab": {
     "base_uri": "https://localhost:8080/",
     "height": 694
    },
    "colab_type": "code",
    "executionInfo": {
     "elapsed": 8833,
     "status": "ok",
     "timestamp": 1571067381535,
     "user": {
      "displayName": "Thien Tran",
      "photoUrl": "",
      "userId": "09210653245768227820"
     },
     "user_tz": -480
    },
    "id": "10Wt7TEM5PuX",
    "outputId": "56b55258-ec2e-48bd-86b2-41bca3e49824"
   },
   "outputs": [
    {
     "data": {
      "text/plain": [
       "[<matplotlib.lines.Line2D at 0x7f9b439977f0>]"
      ]
     },
     "execution_count": 11,
     "metadata": {
      "tags": []
     },
     "output_type": "execute_result"
    },
    {
     "data": {
      "image/png": "[encoded data removed]",
      "text/plain": [
       "<Figure size 576x396 with 1 Axes>"
      ]
     },
     "metadata": {
      "tags": []
     },
     "output_type": "display_data"
    },
    {
     "data": {
      "image/png": "[encoded data removed]",
      "text/plain": [
       "<Figure size 576x396 with 1 Axes>"
      ]
     },
     "metadata": {
      "tags": []
     },
     "output_type": "display_data"
    }
   ],
   "source": [
    "plt.plot(GBP_USD_df.index,GBP_USD_df['FTSE MA 5D'].pct_change(30)/GBP_USD_df['SPX MA 5D'].pct_change(30))\n",
    "plt.figure()\n",
    "plt.plot(GBP_USD_df.index,GBP_USD_df['GBP/USD 5D'])"
   ]
  },
  {
   "cell_type": "markdown",
   "metadata": {
    "colab_type": "text",
    "id": "BaS4XgeOqF9c"
   },
   "source": [
    "## Calculating market return for 1 period\n",
    "\n",
    "There are on average 30 days of in a month. We take 30 days to be our period duration for calculation"
   ]
  },
  {
   "cell_type": "code",
   "execution_count": 0,
   "metadata": {
    "colab": {},
    "colab_type": "code",
    "id": "nsl3SQ_6WbNe"
   },
   "outputs": [],
   "source": [
    "duration = 30"
   ]
  },
  {
   "cell_type": "code",
   "execution_count": 13,
   "metadata": {
    "colab": {
     "base_uri": "https://localhost:8080/",
     "height": 225
    },
    "colab_type": "code",
    "executionInfo": {
     "elapsed": 8818,
     "status": "ok",
     "timestamp": 1571067381540,
     "user": {
      "displayName": "Thien Tran",
      "photoUrl": "",
      "userId": "09210653245768227820"
     },
     "user_tz": -480
    },
    "id": "x88Rf5eOn3YS",
    "outputId": "27375b44-a61a-4d56-a6fa-1e8d27a7c1b0"
   },
   "outputs": [
    {
     "data": {
      "text/html": [
       "<div>\n",
       "<style scoped>\n",
       "    .dataframe tbody tr th:only-of-type {\n",
       "        vertical-align: middle;\n",
       "    }\n",
       "\n",
       "    .dataframe tbody tr th {\n",
       "        vertical-align: top;\n",
       "    }\n",
       "\n",
       "    .dataframe thead th {\n",
       "        text-align: right;\n",
       "    }\n",
       "</style>\n",
       "<table border=\"1\" class=\"dataframe\">\n",
       "  <thead>\n",
       "    <tr style=\"text-align: right;\">\n",
       "      <th></th>\n",
       "      <th>GBP/USD</th>\n",
       "      <th>SPX</th>\n",
       "      <th>FTSE</th>\n",
       "      <th>GBP/USD 5D</th>\n",
       "      <th>SPX MA 5D</th>\n",
       "      <th>FTSE MA 5D</th>\n",
       "      <th>SPX Returns 1M</th>\n",
       "      <th>FTSE Returns 1M</th>\n",
       "    </tr>\n",
       "    <tr>\n",
       "      <th>DATE</th>\n",
       "      <th></th>\n",
       "      <th></th>\n",
       "      <th></th>\n",
       "      <th></th>\n",
       "      <th></th>\n",
       "      <th></th>\n",
       "      <th></th>\n",
       "      <th></th>\n",
       "    </tr>\n",
       "  </thead>\n",
       "  <tbody>\n",
       "    <tr>\n",
       "      <th>2017-12-26</th>\n",
       "      <td>78.1</td>\n",
       "      <td>2680.50</td>\n",
       "      <td>7592.66</td>\n",
       "      <td>78.10</td>\n",
       "      <td>2682.200</td>\n",
       "      <td>7581.436</td>\n",
       "      <td>0.037601</td>\n",
       "      <td>0.016921</td>\n",
       "    </tr>\n",
       "    <tr>\n",
       "      <th>2017-12-27</th>\n",
       "      <td>78.0</td>\n",
       "      <td>2682.62</td>\n",
       "      <td>7620.68</td>\n",
       "      <td>78.06</td>\n",
       "      <td>2682.874</td>\n",
       "      <td>7600.528</td>\n",
       "      <td>0.040257</td>\n",
       "      <td>0.023797</td>\n",
       "    </tr>\n",
       "    <tr>\n",
       "      <th>2017-12-28</th>\n",
       "      <td>78.0</td>\n",
       "      <td>2687.54</td>\n",
       "      <td>7622.88</td>\n",
       "      <td>78.06</td>\n",
       "      <td>2683.468</td>\n",
       "      <td>7604.308</td>\n",
       "      <td>0.040405</td>\n",
       "      <td>0.026995</td>\n",
       "    </tr>\n",
       "    <tr>\n",
       "      <th>2017-12-29</th>\n",
       "      <td>78.2</td>\n",
       "      <td>2673.61</td>\n",
       "      <td>7687.77</td>\n",
       "      <td>78.08</td>\n",
       "      <td>2681.522</td>\n",
       "      <td>7623.330</td>\n",
       "      <td>0.039928</td>\n",
       "      <td>0.031020</td>\n",
       "    </tr>\n",
       "    <tr>\n",
       "      <th>2018-01-01</th>\n",
       "      <td>78.2</td>\n",
       "      <td>2673.61</td>\n",
       "      <td>7687.77</td>\n",
       "      <td>78.10</td>\n",
       "      <td>2679.576</td>\n",
       "      <td>7642.352</td>\n",
       "      <td>0.039391</td>\n",
       "      <td>0.034313</td>\n",
       "    </tr>\n",
       "  </tbody>\n",
       "</table>\n",
       "</div>"
      ],
      "text/plain": [
       "            GBP/USD      SPX  ...  SPX Returns 1M  FTSE Returns 1M\n",
       "DATE                          ...                                 \n",
       "2017-12-26     78.1  2680.50  ...        0.037601         0.016921\n",
       "2017-12-27     78.0  2682.62  ...        0.040257         0.023797\n",
       "2017-12-28     78.0  2687.54  ...        0.040405         0.026995\n",
       "2017-12-29     78.2  2673.61  ...        0.039928         0.031020\n",
       "2018-01-01     78.2  2673.61  ...        0.039391         0.034313\n",
       "\n",
       "[5 rows x 8 columns]"
      ]
     },
     "execution_count": 13,
     "metadata": {
      "tags": []
     },
     "output_type": "execute_result"
    }
   ],
   "source": [
    "GBP_USD_df['SPX Returns 1M'] = GBP_USD_df['SPX MA 5D'].pct_change(duration)\n",
    "GBP_USD_df['FTSE Returns 1M'] = GBP_USD_df['FTSE MA 5D'].pct_change(duration)\n",
    "GBP_USD_df.tail()"
   ]
  },
  {
   "cell_type": "code",
   "execution_count": 14,
   "metadata": {
    "colab": {
     "base_uri": "https://localhost:8080/",
     "height": 195
    },
    "colab_type": "code",
    "executionInfo": {
     "elapsed": 8813,
     "status": "ok",
     "timestamp": 1571067381541,
     "user": {
      "displayName": "Thien Tran",
      "photoUrl": "",
      "userId": "09210653245768227820"
     },
     "user_tz": -480
    },
    "id": "wDLy-lqXOjeK",
    "outputId": "b93fcfbc-e8c0-4ed8-a79e-ea07cf1ef544"
   },
   "outputs": [
    {
     "data": {
      "text/html": [
       "<div>\n",
       "<style scoped>\n",
       "    .dataframe tbody tr th:only-of-type {\n",
       "        vertical-align: middle;\n",
       "    }\n",
       "\n",
       "    .dataframe tbody tr th {\n",
       "        vertical-align: top;\n",
       "    }\n",
       "\n",
       "    .dataframe thead th {\n",
       "        text-align: right;\n",
       "    }\n",
       "</style>\n",
       "<table border=\"1\" class=\"dataframe\">\n",
       "  <thead>\n",
       "    <tr style=\"text-align: right;\">\n",
       "      <th></th>\n",
       "      <th>DATE</th>\n",
       "      <th>GBP/USD</th>\n",
       "      <th>SPX</th>\n",
       "      <th>FTSE</th>\n",
       "      <th>GBP/USD 5D</th>\n",
       "      <th>SPX MA 5D</th>\n",
       "      <th>FTSE MA 5D</th>\n",
       "      <th>SPX Returns 1M</th>\n",
       "      <th>FTSE Returns 1M</th>\n",
       "    </tr>\n",
       "  </thead>\n",
       "  <tbody>\n",
       "    <tr>\n",
       "      <th>300</th>\n",
       "      <td>2017-12-26</td>\n",
       "      <td>78.1</td>\n",
       "      <td>2680.50</td>\n",
       "      <td>7592.66</td>\n",
       "      <td>78.10</td>\n",
       "      <td>2682.200</td>\n",
       "      <td>7581.436</td>\n",
       "      <td>0.037601</td>\n",
       "      <td>0.016921</td>\n",
       "    </tr>\n",
       "    <tr>\n",
       "      <th>301</th>\n",
       "      <td>2017-12-27</td>\n",
       "      <td>78.0</td>\n",
       "      <td>2682.62</td>\n",
       "      <td>7620.68</td>\n",
       "      <td>78.06</td>\n",
       "      <td>2682.874</td>\n",
       "      <td>7600.528</td>\n",
       "      <td>0.040257</td>\n",
       "      <td>0.023797</td>\n",
       "    </tr>\n",
       "    <tr>\n",
       "      <th>302</th>\n",
       "      <td>2017-12-28</td>\n",
       "      <td>78.0</td>\n",
       "      <td>2687.54</td>\n",
       "      <td>7622.88</td>\n",
       "      <td>78.06</td>\n",
       "      <td>2683.468</td>\n",
       "      <td>7604.308</td>\n",
       "      <td>0.040405</td>\n",
       "      <td>0.026995</td>\n",
       "    </tr>\n",
       "    <tr>\n",
       "      <th>303</th>\n",
       "      <td>2017-12-29</td>\n",
       "      <td>78.2</td>\n",
       "      <td>2673.61</td>\n",
       "      <td>7687.77</td>\n",
       "      <td>78.08</td>\n",
       "      <td>2681.522</td>\n",
       "      <td>7623.330</td>\n",
       "      <td>0.039928</td>\n",
       "      <td>0.031020</td>\n",
       "    </tr>\n",
       "    <tr>\n",
       "      <th>304</th>\n",
       "      <td>2018-01-01</td>\n",
       "      <td>78.2</td>\n",
       "      <td>2673.61</td>\n",
       "      <td>7687.77</td>\n",
       "      <td>78.10</td>\n",
       "      <td>2679.576</td>\n",
       "      <td>7642.352</td>\n",
       "      <td>0.039391</td>\n",
       "      <td>0.034313</td>\n",
       "    </tr>\n",
       "  </tbody>\n",
       "</table>\n",
       "</div>"
      ],
      "text/plain": [
       "          DATE  GBP/USD      SPX  ...  FTSE MA 5D  SPX Returns 1M  FTSE Returns 1M\n",
       "300 2017-12-26     78.1  2680.50  ...    7581.436        0.037601         0.016921\n",
       "301 2017-12-27     78.0  2682.62  ...    7600.528        0.040257         0.023797\n",
       "302 2017-12-28     78.0  2687.54  ...    7604.308        0.040405         0.026995\n",
       "303 2017-12-29     78.2  2673.61  ...    7623.330        0.039928         0.031020\n",
       "304 2018-01-01     78.2  2673.61  ...    7642.352        0.039391         0.034313\n",
       "\n",
       "[5 rows x 9 columns]"
      ]
     },
     "execution_count": 14,
     "metadata": {
      "tags": []
     },
     "output_type": "execute_result"
    }
   ],
   "source": [
    "GBP_USD_df.reset_index(inplace=True)\n",
    "GBP_USD_df.tail()"
   ]
  },
  {
   "cell_type": "markdown",
   "metadata": {
    "colab_type": "text",
    "id": "IupINZlvqG14"
   },
   "source": [
    "## Calculating Fair value of exchange rate using the proposed model\n",
    "\n",
    "$$FX_2 = FX_1 \\frac{1+r_{UK}}{1+r_{US}}$$"
   ]
  },
  {
   "cell_type": "code",
   "execution_count": 0,
   "metadata": {
    "colab": {},
    "colab_type": "code",
    "id": "cYWlUpnwUm-W"
   },
   "outputs": [],
   "source": [
    "GBP_USD_df['GBP/USD Fair value'] = np.nan\n",
    "for i in np.arange(duration,len(GBP_USD_df)):\n",
    "    GBP_USD_df.loc[i,'GBP/USD Fair value'] = GBP_USD_df.loc[i-duration,'GBP/USD 5D'] * (1 + GBP_USD_df.loc[i,'FTSE Returns 1M']) / (1 + GBP_USD_df.loc[i,'SPX Returns 1M'])"
   ]
  },
  {
   "cell_type": "code",
   "execution_count": 16,
   "metadata": {
    "colab": {
     "base_uri": "https://localhost:8080/",
     "height": 195
    },
    "colab_type": "code",
    "executionInfo": {
     "elapsed": 8805,
     "status": "ok",
     "timestamp": 1571067381550,
     "user": {
      "displayName": "Thien Tran",
      "photoUrl": "",
      "userId": "09210653245768227820"
     },
     "user_tz": -480
    },
    "id": "srHyLPWBPM7y",
    "outputId": "58a90f18-7e85-4fe2-e3ea-a041abd63a70"
   },
   "outputs": [
    {
     "data": {
      "text/html": [
       "<div>\n",
       "<style scoped>\n",
       "    .dataframe tbody tr th:only-of-type {\n",
       "        vertical-align: middle;\n",
       "    }\n",
       "\n",
       "    .dataframe tbody tr th {\n",
       "        vertical-align: top;\n",
       "    }\n",
       "\n",
       "    .dataframe thead th {\n",
       "        text-align: right;\n",
       "    }\n",
       "</style>\n",
       "<table border=\"1\" class=\"dataframe\">\n",
       "  <thead>\n",
       "    <tr style=\"text-align: right;\">\n",
       "      <th></th>\n",
       "      <th>DATE</th>\n",
       "      <th>GBP/USD</th>\n",
       "      <th>SPX</th>\n",
       "      <th>FTSE</th>\n",
       "      <th>GBP/USD 5D</th>\n",
       "      <th>SPX MA 5D</th>\n",
       "      <th>FTSE MA 5D</th>\n",
       "      <th>SPX Returns 1M</th>\n",
       "      <th>FTSE Returns 1M</th>\n",
       "      <th>GBP/USD Fair value</th>\n",
       "    </tr>\n",
       "  </thead>\n",
       "  <tbody>\n",
       "    <tr>\n",
       "      <th>300</th>\n",
       "      <td>2017-12-26</td>\n",
       "      <td>78.1</td>\n",
       "      <td>2680.50</td>\n",
       "      <td>7592.66</td>\n",
       "      <td>78.10</td>\n",
       "      <td>2682.200</td>\n",
       "      <td>7581.436</td>\n",
       "      <td>0.037601</td>\n",
       "      <td>0.016921</td>\n",
       "      <td>75.935828</td>\n",
       "    </tr>\n",
       "    <tr>\n",
       "      <th>301</th>\n",
       "      <td>2017-12-27</td>\n",
       "      <td>78.0</td>\n",
       "      <td>2682.62</td>\n",
       "      <td>7620.68</td>\n",
       "      <td>78.06</td>\n",
       "      <td>2682.874</td>\n",
       "      <td>7600.528</td>\n",
       "      <td>0.040257</td>\n",
       "      <td>0.023797</td>\n",
       "      <td>76.195030</td>\n",
       "    </tr>\n",
       "    <tr>\n",
       "      <th>302</th>\n",
       "      <td>2017-12-28</td>\n",
       "      <td>78.0</td>\n",
       "      <td>2687.54</td>\n",
       "      <td>7622.88</td>\n",
       "      <td>78.06</td>\n",
       "      <td>2683.468</td>\n",
       "      <td>7604.308</td>\n",
       "      <td>0.040405</td>\n",
       "      <td>0.026995</td>\n",
       "      <td>76.422113</td>\n",
       "    </tr>\n",
       "    <tr>\n",
       "      <th>303</th>\n",
       "      <td>2017-12-29</td>\n",
       "      <td>78.2</td>\n",
       "      <td>2673.61</td>\n",
       "      <td>7687.77</td>\n",
       "      <td>78.08</td>\n",
       "      <td>2681.522</td>\n",
       "      <td>7623.330</td>\n",
       "      <td>0.039928</td>\n",
       "      <td>0.031020</td>\n",
       "      <td>76.657679</td>\n",
       "    </tr>\n",
       "    <tr>\n",
       "      <th>304</th>\n",
       "      <td>2018-01-01</td>\n",
       "      <td>78.2</td>\n",
       "      <td>2673.61</td>\n",
       "      <td>7687.77</td>\n",
       "      <td>78.10</td>\n",
       "      <td>2679.576</td>\n",
       "      <td>7642.352</td>\n",
       "      <td>0.039391</td>\n",
       "      <td>0.034313</td>\n",
       "      <td>77.061606</td>\n",
       "    </tr>\n",
       "  </tbody>\n",
       "</table>\n",
       "</div>"
      ],
      "text/plain": [
       "          DATE  GBP/USD  ...  FTSE Returns 1M  GBP/USD Fair value\n",
       "300 2017-12-26     78.1  ...         0.016921           75.935828\n",
       "301 2017-12-27     78.0  ...         0.023797           76.195030\n",
       "302 2017-12-28     78.0  ...         0.026995           76.422113\n",
       "303 2017-12-29     78.2  ...         0.031020           76.657679\n",
       "304 2018-01-01     78.2  ...         0.034313           77.061606\n",
       "\n",
       "[5 rows x 10 columns]"
      ]
     },
     "execution_count": 16,
     "metadata": {
      "tags": []
     },
     "output_type": "execute_result"
    }
   ],
   "source": [
    "GBP_USD_df.tail()"
   ]
  },
  {
   "cell_type": "code",
   "execution_count": 17,
   "metadata": {
    "colab": {
     "base_uri": "https://localhost:8080/",
     "height": 365
    },
    "colab_type": "code",
    "executionInfo": {
     "elapsed": 9510,
     "status": "ok",
     "timestamp": 1571067382266,
     "user": {
      "displayName": "Thien Tran",
      "photoUrl": "",
      "userId": "09210653245768227820"
     },
     "user_tz": -480
    },
    "id": "xN9ETQJnPYDF",
    "outputId": "a1c993d6-055f-4f92-cb97-1c099cd6d791"
   },
   "outputs": [
    {
     "data": {
      "text/plain": [
       "[<matplotlib.lines.Line2D at 0x7f9b439129e8>]"
      ]
     },
     "execution_count": 17,
     "metadata": {
      "tags": []
     },
     "output_type": "execute_result"
    },
    {
     "data": {
      "image/png": "[encoded data removed]",
      "text/plain": [
       "<Figure size 576x396 with 1 Axes>"
      ]
     },
     "metadata": {
      "tags": []
     },
     "output_type": "display_data"
    }
   ],
   "source": [
    "plt.plot(GBP_USD_df['DATE'],GBP_USD_df['GBP/USD'])\n",
    "plt.plot(GBP_USD_df['DATE'],GBP_USD_df['GBP/USD 5D'])\n",
    "plt.plot(GBP_USD_df['DATE'],GBP_USD_df['GBP/USD Fair value'])"
   ]
  },
  {
   "cell_type": "markdown",
   "metadata": {
    "colab_type": "text",
    "id": "QOCO2-7bYuO4"
   },
   "source": [
    "## Sharpe ratio and Backtesting\n",
    "\n",
    "Take the risk free rate to be 1.4% and constant throughout our analysis.\n",
    "\n",
    "We enter forward contracts for delivery in 1 month time. Thus, our **realized return** will be computed using *current spot exchange rate* and *spot exchange rate in 1 month later*."
   ]
  },
  {
   "cell_type": "code",
   "execution_count": 0,
   "metadata": {
    "colab": {},
    "colab_type": "code",
    "id": "R3isVWEccXof"
   },
   "outputs": [],
   "source": [
    "Ra = np.array([])\n",
    "total_return = 0\n",
    "threshold = 1"
   ]
  },
  {
   "cell_type": "code",
   "execution_count": 0,
   "metadata": {
    "colab": {},
    "colab_type": "code",
    "id": "sd-KbsCcYxTd"
   },
   "outputs": [],
   "source": [
    "for i in np.arange(len(GBP_USD_df)-duration):\n",
    "    if GBP_USD_df.loc[i,'GBP/USD'] - GBP_USD_df.loc[i,'GBP/USD Fair value'] > threshold:              # long position\n",
    "        Return = 1 - GBP_USD_df.loc[i+duration,'GBP/USD'] / GBP_USD_df.loc[i,'GBP/USD']               # realized return\n",
    "        Ra = np.append(Ra, Return)    \n",
    "        total_return += 100 * Return\n",
    "    \n",
    "    elif GBP_USD_df.loc[i,'GBP/USD'] - GBP_USD_df.loc[i,'GBP/USD Fair value'] < -threshold:           # short position\n",
    "        Return = GBP_USD_df.loc[i+duration,'GBP/USD'] / GBP_USD_df.loc[i,'GBP/USD'] - 1               # realized return\n",
    "        Ra = np.append(Ra, Return)    \n",
    "        total_return += 100 * Return"
   ]
  },
  {
   "cell_type": "code",
   "execution_count": 0,
   "metadata": {
    "colab": {},
    "colab_type": "code",
    "id": "2ThlzllIUVtW"
   },
   "outputs": [],
   "source": [
    "# convert to annual rate, compount the rate by 12 periods (there are 12 months in a year)\n",
    "Ra = (Ra + 1)**12 - 1"
   ]
  },
  {
   "cell_type": "code",
   "execution_count": 21,
   "metadata": {
    "colab": {
     "base_uri": "https://localhost:8080/",
     "height": 34
    },
    "colab_type": "code",
    "executionInfo": {
     "elapsed": 9495,
     "status": "ok",
     "timestamp": 1571067382284,
     "user": {
      "displayName": "Thien Tran",
      "photoUrl": "",
      "userId": "09210653245768227820"
     },
     "user_tz": -480
    },
    "id": "Y3o8ZbETdxV5",
    "outputId": "9f7c26df-cc3a-4618-9804-98420779e471"
   },
   "outputs": [
    {
     "data": {
      "text/plain": [
       "0.14337656172005883"
      ]
     },
     "execution_count": 21,
     "metadata": {
      "tags": []
     },
     "output_type": "execute_result"
    }
   ],
   "source": [
    "Ra.mean()"
   ]
  },
  {
   "cell_type": "code",
   "execution_count": 22,
   "metadata": {
    "colab": {
     "base_uri": "https://localhost:8080/",
     "height": 365
    },
    "colab_type": "code",
    "executionInfo": {
     "elapsed": 10096,
     "status": "ok",
     "timestamp": 1571067382892,
     "user": {
      "displayName": "Thien Tran",
      "photoUrl": "",
      "userId": "09210653245768227820"
     },
     "user_tz": -480
    },
    "id": "1cdVBqZjfqX_",
    "outputId": "6cab2410-198b-4c37-bf19-480fffd28359"
   },
   "outputs": [
    {
     "data": {
      "text/plain": [
       "<matplotlib.axes._subplots.AxesSubplot at 0x7f9b438c7630>"
      ]
     },
     "execution_count": 22,
     "metadata": {
      "tags": []
     },
     "output_type": "execute_result"
    },
    {
     "data": {
      "image/png": "[encoded data removed]",
      "text/plain": [
       "<Figure size 576x396 with 1 Axes>"
      ]
     },
     "metadata": {
      "tags": []
     },
     "output_type": "display_data"
    }
   ],
   "source": [
    "sns.distplot(Ra)"
   ]
  },
  {
   "cell_type": "code",
   "execution_count": 23,
   "metadata": {
    "colab": {
     "base_uri": "https://localhost:8080/",
     "height": 34
    },
    "colab_type": "code",
    "executionInfo": {
     "elapsed": 10090,
     "status": "ok",
     "timestamp": 1571067382894,
     "user": {
      "displayName": "Thien Tran",
      "photoUrl": "",
      "userId": "09210653245768227820"
     },
     "user_tz": -480
    },
    "id": "PKGolY6qP0Ch",
    "outputId": "bb835d7a-b5f4-4828-cc32-c20e5a39edde"
   },
   "outputs": [
    {
     "data": {
      "text/plain": [
       "0.5466553040687679"
      ]
     },
     "execution_count": 23,
     "metadata": {
      "tags": []
     },
     "output_type": "execute_result"
    }
   ],
   "source": [
    "Sharpe_ratio = (Ra.mean() - 0.014) / Ra.std()\n",
    "Sharpe_ratio"
   ]
  },
  {
   "cell_type": "code",
   "execution_count": 24,
   "metadata": {
    "colab": {
     "base_uri": "https://localhost:8080/",
     "height": 34
    },
    "colab_type": "code",
    "executionInfo": {
     "elapsed": 10083,
     "status": "ok",
     "timestamp": 1571067382896,
     "user": {
      "displayName": "Thien Tran",
      "photoUrl": "",
      "userId": "09210653245768227820"
     },
     "user_tz": -480
    },
    "id": "uCKNJ3Px3cLu",
    "outputId": "437f6c68-471a-4e12-a9c0-aa92eedc1ab4"
   },
   "outputs": [
    {
     "data": {
      "text/plain": [
       "166.58361781839017"
      ]
     },
     "execution_count": 24,
     "metadata": {
      "tags": []
     },
     "output_type": "execute_result"
    }
   ],
   "source": [
    "total_return"
   ]
  },
  {
   "cell_type": "markdown",
   "metadata": {
    "colab_type": "text",
    "id": "zLIvjKsjvoMd"
   },
   "source": [
    "## Export estimated Fair value\n",
    "\n",
    "For submission purpose"
   ]
  },
  {
   "cell_type": "code",
   "execution_count": 25,
   "metadata": {
    "colab": {
     "base_uri": "https://localhost:8080/",
     "height": 195
    },
    "colab_type": "code",
    "executionInfo": {
     "elapsed": 10073,
     "status": "ok",
     "timestamp": 1571067382898,
     "user": {
      "displayName": "Thien Tran",
      "photoUrl": "",
      "userId": "09210653245768227820"
     },
     "user_tz": -480
    },
    "id": "_3217w-wvmfj",
    "outputId": "c4fe2f23-f508-4c26-8739-8a44d068e3ed"
   },
   "outputs": [
    {
     "data": {
      "text/html": [
       "<div>\n",
       "<style scoped>\n",
       "    .dataframe tbody tr th:only-of-type {\n",
       "        vertical-align: middle;\n",
       "    }\n",
       "\n",
       "    .dataframe tbody tr th {\n",
       "        vertical-align: top;\n",
       "    }\n",
       "\n",
       "    .dataframe thead th {\n",
       "        text-align: right;\n",
       "    }\n",
       "</style>\n",
       "<table border=\"1\" class=\"dataframe\">\n",
       "  <thead>\n",
       "    <tr style=\"text-align: right;\">\n",
       "      <th></th>\n",
       "      <th>DATE</th>\n",
       "      <th>GBP/USD Fair value</th>\n",
       "    </tr>\n",
       "  </thead>\n",
       "  <tbody>\n",
       "    <tr>\n",
       "      <th>300</th>\n",
       "      <td>2017-12-26</td>\n",
       "      <td>75.935828</td>\n",
       "    </tr>\n",
       "    <tr>\n",
       "      <th>301</th>\n",
       "      <td>2017-12-27</td>\n",
       "      <td>76.195030</td>\n",
       "    </tr>\n",
       "    <tr>\n",
       "      <th>302</th>\n",
       "      <td>2017-12-28</td>\n",
       "      <td>76.422113</td>\n",
       "    </tr>\n",
       "    <tr>\n",
       "      <th>303</th>\n",
       "      <td>2017-12-29</td>\n",
       "      <td>76.657679</td>\n",
       "    </tr>\n",
       "    <tr>\n",
       "      <th>304</th>\n",
       "      <td>2018-01-01</td>\n",
       "      <td>77.061606</td>\n",
       "    </tr>\n",
       "  </tbody>\n",
       "</table>\n",
       "</div>"
      ],
      "text/plain": [
       "          DATE  GBP/USD Fair value\n",
       "300 2017-12-26           75.935828\n",
       "301 2017-12-27           76.195030\n",
       "302 2017-12-28           76.422113\n",
       "303 2017-12-29           76.657679\n",
       "304 2018-01-01           77.061606"
      ]
     },
     "execution_count": 25,
     "metadata": {
      "tags": []
     },
     "output_type": "execute_result"
    }
   ],
   "source": [
    "FV_df = GBP_USD_df.loc[:,['DATE','GBP/USD Fair value']]\n",
    "FV_df.tail()"
   ]
  },
  {
   "cell_type": "code",
   "execution_count": 0,
   "metadata": {
    "colab": {},
    "colab_type": "code",
    "id": "KOz6yyCZv7vh"
   },
   "outputs": [],
   "source": [
    "FV_df.to_csv('Fair value',index=False)"
   ]
  }
 ],
 "metadata": {
  "colab": {
   "collapsed_sections": [],
   "name": "FX Value strategy.ipynb",
   "provenance": []
  },
  "kernelspec": {
   "display_name": "Python 3",
   "language": "python",
   "name": "python3"
  },
  "language_info": {
   "codemirror_mode": {
    "name": "ipython",
    "version": 3
   },
   "file_extension": ".py",
   "mimetype": "text/x-python",
   "name": "python",
   "nbconvert_exporter": "python",
   "pygments_lexer": "ipython3",
   "version": "3.7.5"
  }
 },
 "nbformat": 4,
 "nbformat_minor": 1
}
