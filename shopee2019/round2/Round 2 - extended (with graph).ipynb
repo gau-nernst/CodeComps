{
 "cells": [
  {
   "cell_type": "markdown",
   "metadata": {},
   "source": [
    "# Shopee - The Best Coder Challenger 2019 - Round 2\n",
    "\n",
    "## Setting up\n",
    "\n",
    "Import necessary libraries.\n",
    "- Just import __Numpy__ for fun\n",
    "- __Pandas__ to work with the provided data\n",
    "- __NetworkX__ to create graph"
   ]
  },
  {
   "cell_type": "code",
   "execution_count": 1,
   "metadata": {},
   "outputs": [],
   "source": [
    "import numpy as np\n",
    "import pandas as pd\n",
    "import networkx as nx\n",
    "import matplotlib.pyplot as plt\n",
    "%matplotlib inline"
   ]
  },
  {
   "cell_type": "markdown",
   "metadata": {},
   "source": [
    "Import data as __Pandas dataframes__. Using `dtype='str'` so that Pandas won't read numbers as integers"
   ]
  },
  {
   "cell_type": "code",
   "execution_count": 2,
   "metadata": {},
   "outputs": [],
   "source": [
    "df_order = pd.read_csv('orders.csv',dtype='str')\n",
    "df_bank = pd.read_csv('bank_accounts.csv',dtype='str')\n",
    "df_device = pd.read_csv('devices.csv',dtype='str')\n",
    "df_card = pd.read_csv('credit_cards.csv',dtype='str')"
   ]
  },
  {
   "cell_type": "markdown",
   "metadata": {},
   "source": [
    "See what the data looks like using `.head()`: showing the first few rows of the datafram"
   ]
  },
  {
   "cell_type": "code",
   "execution_count": 3,
   "metadata": {},
   "outputs": [
    {
     "data": {
      "text/html": [
       "<div>\n",
       "<style scoped>\n",
       "    .dataframe tbody tr th:only-of-type {\n",
       "        vertical-align: middle;\n",
       "    }\n",
       "\n",
       "    .dataframe tbody tr th {\n",
       "        vertical-align: top;\n",
       "    }\n",
       "\n",
       "    .dataframe thead th {\n",
       "        text-align: right;\n",
       "    }\n",
       "</style>\n",
       "<table border=\"1\" class=\"dataframe\">\n",
       "  <thead>\n",
       "    <tr style=\"text-align: right;\">\n",
       "      <th></th>\n",
       "      <th>orderid</th>\n",
       "      <th>buyer_userid</th>\n",
       "      <th>seller_userid</th>\n",
       "    </tr>\n",
       "  </thead>\n",
       "  <tbody>\n",
       "    <tr>\n",
       "      <th>0</th>\n",
       "      <td>1953278092</td>\n",
       "      <td>47388162</td>\n",
       "      <td>20822974</td>\n",
       "    </tr>\n",
       "    <tr>\n",
       "      <th>1</th>\n",
       "      <td>1953295120</td>\n",
       "      <td>26855196</td>\n",
       "      <td>16416890</td>\n",
       "    </tr>\n",
       "    <tr>\n",
       "      <th>2</th>\n",
       "      <td>1953306402</td>\n",
       "      <td>121296714</td>\n",
       "      <td>28477978</td>\n",
       "    </tr>\n",
       "    <tr>\n",
       "      <th>3</th>\n",
       "      <td>1953314712</td>\n",
       "      <td>131221930</td>\n",
       "      <td>72837912</td>\n",
       "    </tr>\n",
       "    <tr>\n",
       "      <th>4</th>\n",
       "      <td>1953381964</td>\n",
       "      <td>183398314</td>\n",
       "      <td>28423332</td>\n",
       "    </tr>\n",
       "    <tr>\n",
       "      <th>5</th>\n",
       "      <td>1953383372</td>\n",
       "      <td>69247284</td>\n",
       "      <td>62795594</td>\n",
       "    </tr>\n",
       "    <tr>\n",
       "      <th>6</th>\n",
       "      <td>1953451192</td>\n",
       "      <td>89510674</td>\n",
       "      <td>18186196</td>\n",
       "    </tr>\n",
       "    <tr>\n",
       "      <th>7</th>\n",
       "      <td>1953453596</td>\n",
       "      <td>198638326</td>\n",
       "      <td>7314602</td>\n",
       "    </tr>\n",
       "    <tr>\n",
       "      <th>8</th>\n",
       "      <td>1953479046</td>\n",
       "      <td>202508756</td>\n",
       "      <td>1988634</td>\n",
       "    </tr>\n",
       "    <tr>\n",
       "      <th>9</th>\n",
       "      <td>1953480060</td>\n",
       "      <td>130236220</td>\n",
       "      <td>77145726</td>\n",
       "    </tr>\n",
       "  </tbody>\n",
       "</table>\n",
       "</div>"
      ],
      "text/plain": [
       "      orderid buyer_userid seller_userid\n",
       "0  1953278092     47388162      20822974\n",
       "1  1953295120     26855196      16416890\n",
       "2  1953306402    121296714      28477978\n",
       "3  1953314712    131221930      72837912\n",
       "4  1953381964    183398314      28423332\n",
       "5  1953383372     69247284      62795594\n",
       "6  1953451192     89510674      18186196\n",
       "7  1953453596    198638326       7314602\n",
       "8  1953479046    202508756       1988634\n",
       "9  1953480060    130236220      77145726"
      ]
     },
     "execution_count": 3,
     "metadata": {},
     "output_type": "execute_result"
    }
   ],
   "source": [
    "df_order.head(10)"
   ]
  },
  {
   "cell_type": "code",
   "execution_count": 4,
   "metadata": {},
   "outputs": [
    {
     "data": {
      "text/html": [
       "<div>\n",
       "<style scoped>\n",
       "    .dataframe tbody tr th:only-of-type {\n",
       "        vertical-align: middle;\n",
       "    }\n",
       "\n",
       "    .dataframe tbody tr th {\n",
       "        vertical-align: top;\n",
       "    }\n",
       "\n",
       "    .dataframe thead th {\n",
       "        text-align: right;\n",
       "    }\n",
       "</style>\n",
       "<table border=\"1\" class=\"dataframe\">\n",
       "  <thead>\n",
       "    <tr style=\"text-align: right;\">\n",
       "      <th></th>\n",
       "      <th>userid</th>\n",
       "      <th>device</th>\n",
       "    </tr>\n",
       "  </thead>\n",
       "  <tbody>\n",
       "    <tr>\n",
       "      <th>0</th>\n",
       "      <td>10499978</td>\n",
       "      <td>0Zu/mWZ4cFsvobYglgZEc5VSxwwajRwrm74pBuwnrTu=</td>\n",
       "    </tr>\n",
       "    <tr>\n",
       "      <th>1</th>\n",
       "      <td>54526742</td>\n",
       "      <td>zBMRKyz98iy5Z7sh+JIOdF612J1CB8ggvFBI6MP361q=</td>\n",
       "    </tr>\n",
       "    <tr>\n",
       "      <th>2</th>\n",
       "      <td>33152428</td>\n",
       "      <td>KXC0oY3MMrTG+bnlFFvBPXZC5PW8iw6kgWztENWdIJg=</td>\n",
       "    </tr>\n",
       "    <tr>\n",
       "      <th>3</th>\n",
       "      <td>55020986</td>\n",
       "      <td>anRXS7+zVgCGKz5C9X3dzewIhSdojGEi5TO07pb2y+K=</td>\n",
       "    </tr>\n",
       "    <tr>\n",
       "      <th>4</th>\n",
       "      <td>100471502</td>\n",
       "      <td>hbIARr+USwvjjzc8QUVtD5a/apR1DJX6P3fYvgDL4gW=</td>\n",
       "    </tr>\n",
       "    <tr>\n",
       "      <th>5</th>\n",
       "      <td>61471588</td>\n",
       "      <td>iVuRAqjJYPDrwq7W/OVP9EuiCLyPgOT9cv7ZmjDy4Gy=</td>\n",
       "    </tr>\n",
       "    <tr>\n",
       "      <th>6</th>\n",
       "      <td>62907954</td>\n",
       "      <td>Qy0OTEs+/dmv+aBN4Qw4mQScGsAAp435kHF69jdnQUm=</td>\n",
       "    </tr>\n",
       "    <tr>\n",
       "      <th>7</th>\n",
       "      <td>37491720</td>\n",
       "      <td>7IzAgA/z/+BpwyIwsGf4bfbUmZHpf+axxrM+ij8/FDg=</td>\n",
       "    </tr>\n",
       "    <tr>\n",
       "      <th>8</th>\n",
       "      <td>20756502</td>\n",
       "      <td>WdTSc6p/VKXhA6Hm+hwCk4xEmep7IiHC34sCIAf1oBW=</td>\n",
       "    </tr>\n",
       "    <tr>\n",
       "      <th>9</th>\n",
       "      <td>133160044</td>\n",
       "      <td>r7MzY5w6X7pz0kKqhAG4cIoU1CmcA/oG8BZ7CCBnK5E=</td>\n",
       "    </tr>\n",
       "  </tbody>\n",
       "</table>\n",
       "</div>"
      ],
      "text/plain": [
       "      userid                                        device\n",
       "0   10499978  0Zu/mWZ4cFsvobYglgZEc5VSxwwajRwrm74pBuwnrTu=\n",
       "1   54526742  zBMRKyz98iy5Z7sh+JIOdF612J1CB8ggvFBI6MP361q=\n",
       "2   33152428  KXC0oY3MMrTG+bnlFFvBPXZC5PW8iw6kgWztENWdIJg=\n",
       "3   55020986  anRXS7+zVgCGKz5C9X3dzewIhSdojGEi5TO07pb2y+K=\n",
       "4  100471502  hbIARr+USwvjjzc8QUVtD5a/apR1DJX6P3fYvgDL4gW=\n",
       "5   61471588  iVuRAqjJYPDrwq7W/OVP9EuiCLyPgOT9cv7ZmjDy4Gy=\n",
       "6   62907954  Qy0OTEs+/dmv+aBN4Qw4mQScGsAAp435kHF69jdnQUm=\n",
       "7   37491720  7IzAgA/z/+BpwyIwsGf4bfbUmZHpf+axxrM+ij8/FDg=\n",
       "8   20756502  WdTSc6p/VKXhA6Hm+hwCk4xEmep7IiHC34sCIAf1oBW=\n",
       "9  133160044  r7MzY5w6X7pz0kKqhAG4cIoU1CmcA/oG8BZ7CCBnK5E="
      ]
     },
     "execution_count": 4,
     "metadata": {},
     "output_type": "execute_result"
    }
   ],
   "source": [
    "df_device.head(10)"
   ]
  },
  {
   "cell_type": "code",
   "execution_count": 5,
   "metadata": {},
   "outputs": [
    {
     "data": {
      "text/html": [
       "<div>\n",
       "<style scoped>\n",
       "    .dataframe tbody tr th:only-of-type {\n",
       "        vertical-align: middle;\n",
       "    }\n",
       "\n",
       "    .dataframe tbody tr th {\n",
       "        vertical-align: top;\n",
       "    }\n",
       "\n",
       "    .dataframe thead th {\n",
       "        text-align: right;\n",
       "    }\n",
       "</style>\n",
       "<table border=\"1\" class=\"dataframe\">\n",
       "  <thead>\n",
       "    <tr style=\"text-align: right;\">\n",
       "      <th></th>\n",
       "      <th>userid</th>\n",
       "      <th>bank_account</th>\n",
       "    </tr>\n",
       "  </thead>\n",
       "  <tbody>\n",
       "    <tr>\n",
       "      <th>0</th>\n",
       "      <td>21829134</td>\n",
       "      <td>923302000003892</td>\n",
       "    </tr>\n",
       "    <tr>\n",
       "      <th>1</th>\n",
       "      <td>95910542</td>\n",
       "      <td>011002023212822</td>\n",
       "    </tr>\n",
       "    <tr>\n",
       "      <th>2</th>\n",
       "      <td>96941876</td>\n",
       "      <td>0189303223</td>\n",
       "    </tr>\n",
       "    <tr>\n",
       "      <th>3</th>\n",
       "      <td>23452396</td>\n",
       "      <td>2280003199803</td>\n",
       "    </tr>\n",
       "    <tr>\n",
       "      <th>4</th>\n",
       "      <td>12647942</td>\n",
       "      <td>032002028484803</td>\n",
       "    </tr>\n",
       "    <tr>\n",
       "      <th>5</th>\n",
       "      <td>93351382</td>\n",
       "      <td>2200092211113</td>\n",
       "    </tr>\n",
       "    <tr>\n",
       "      <th>6</th>\n",
       "      <td>73673972</td>\n",
       "      <td>898802093909822</td>\n",
       "    </tr>\n",
       "    <tr>\n",
       "      <th>7</th>\n",
       "      <td>32609752</td>\n",
       "      <td>2390022092232</td>\n",
       "    </tr>\n",
       "    <tr>\n",
       "      <th>8</th>\n",
       "      <td>97851414</td>\n",
       "      <td>002902002222839</td>\n",
       "    </tr>\n",
       "    <tr>\n",
       "      <th>9</th>\n",
       "      <td>90467238</td>\n",
       "      <td>4032444322</td>\n",
       "    </tr>\n",
       "  </tbody>\n",
       "</table>\n",
       "</div>"
      ],
      "text/plain": [
       "     userid     bank_account\n",
       "0  21829134  923302000003892\n",
       "1  95910542  011002023212822\n",
       "2  96941876       0189303223\n",
       "3  23452396    2280003199803\n",
       "4  12647942  032002028484803\n",
       "5  93351382    2200092211113\n",
       "6  73673972  898802093909822\n",
       "7  32609752    2390022092232\n",
       "8  97851414  002902002222839\n",
       "9  90467238       4032444322"
      ]
     },
     "execution_count": 5,
     "metadata": {},
     "output_type": "execute_result"
    }
   ],
   "source": [
    "df_bank.head(10)"
   ]
  },
  {
   "cell_type": "code",
   "execution_count": 6,
   "metadata": {},
   "outputs": [
    {
     "data": {
      "text/html": [
       "<div>\n",
       "<style scoped>\n",
       "    .dataframe tbody tr th:only-of-type {\n",
       "        vertical-align: middle;\n",
       "    }\n",
       "\n",
       "    .dataframe tbody tr th {\n",
       "        vertical-align: top;\n",
       "    }\n",
       "\n",
       "    .dataframe thead th {\n",
       "        text-align: right;\n",
       "    }\n",
       "</style>\n",
       "<table border=\"1\" class=\"dataframe\">\n",
       "  <thead>\n",
       "    <tr style=\"text-align: right;\">\n",
       "      <th></th>\n",
       "      <th>userid</th>\n",
       "      <th>credit_card</th>\n",
       "    </tr>\n",
       "  </thead>\n",
       "  <tbody>\n",
       "    <tr>\n",
       "      <th>0</th>\n",
       "      <td>2579938</td>\n",
       "      <td>832299xxxxxx4902|02-2019</td>\n",
       "    </tr>\n",
       "    <tr>\n",
       "      <th>1</th>\n",
       "      <td>2154902</td>\n",
       "      <td>322429xxxxxx3848|05-2020</td>\n",
       "    </tr>\n",
       "    <tr>\n",
       "      <th>2</th>\n",
       "      <td>5578604</td>\n",
       "      <td>322429xxxxxx1293|11-2016</td>\n",
       "    </tr>\n",
       "    <tr>\n",
       "      <th>3</th>\n",
       "      <td>2051728</td>\n",
       "      <td>388329xxxxxx4303|09-2016</td>\n",
       "    </tr>\n",
       "    <tr>\n",
       "      <th>4</th>\n",
       "      <td>6216212</td>\n",
       "      <td>322421xxxxxx4238|05-2018</td>\n",
       "    </tr>\n",
       "    <tr>\n",
       "      <th>5</th>\n",
       "      <td>7661324</td>\n",
       "      <td>388322xxxxxx8304|09-2018</td>\n",
       "    </tr>\n",
       "    <tr>\n",
       "      <th>6</th>\n",
       "      <td>9554574</td>\n",
       "      <td>829092xxxxxx2938|08-2019</td>\n",
       "    </tr>\n",
       "    <tr>\n",
       "      <th>7</th>\n",
       "      <td>11853094</td>\n",
       "      <td>388329xxxxxx3308|09-2018</td>\n",
       "    </tr>\n",
       "    <tr>\n",
       "      <th>8</th>\n",
       "      <td>7965348</td>\n",
       "      <td>322429xxxxxx8232|01-2021</td>\n",
       "    </tr>\n",
       "    <tr>\n",
       "      <th>9</th>\n",
       "      <td>7313766</td>\n",
       "      <td>390219xxxxxx0390|09-2016</td>\n",
       "    </tr>\n",
       "  </tbody>\n",
       "</table>\n",
       "</div>"
      ],
      "text/plain": [
       "     userid               credit_card\n",
       "0   2579938  832299xxxxxx4902|02-2019\n",
       "1   2154902  322429xxxxxx3848|05-2020\n",
       "2   5578604  322429xxxxxx1293|11-2016\n",
       "3   2051728  388329xxxxxx4303|09-2016\n",
       "4   6216212  322421xxxxxx4238|05-2018\n",
       "5   7661324  388322xxxxxx8304|09-2018\n",
       "6   9554574  829092xxxxxx2938|08-2019\n",
       "7  11853094  388329xxxxxx3308|09-2018\n",
       "8   7965348  322429xxxxxx8232|01-2021\n",
       "9   7313766  390219xxxxxx0390|09-2016"
      ]
     },
     "execution_count": 6,
     "metadata": {},
     "output_type": "execute_result"
    }
   ],
   "source": [
    "df_card.head(10)"
   ]
  },
  {
   "cell_type": "markdown",
   "metadata": {},
   "source": [
    "## Prepare the data\n",
    "\n",
    "Cleaning of data is not needed. The approach here is to create a __graph__ containing all available information. Each __node__ represents a data point, including:\n",
    "- `userid`\n",
    "- `device`\n",
    "- `bank_account`\n",
    "- `credit_card`\n",
    "\n",
    "To know which node is connected to which, we look at the `df_device`, `df_bank`, and `df_card` dataframes. We connect the `userid` with his/her corresponding device, bank account of credit card according to the given data. In other words, each __row__ in the dataframe specifies a node connection, or an `edge` if we use the formal term."
   ]
  },
  {
   "cell_type": "code",
   "execution_count": 7,
   "metadata": {},
   "outputs": [],
   "source": [
    "G_device = nx.from_pandas_edgelist(df_device,source='userid',target='device')\n",
    "G_bank = nx.from_pandas_edgelist(df_bank,source='userid',target='bank_account')\n",
    "G_card = nx.from_pandas_edgelist(df_card,source='userid',target='credit_card')"
   ]
  },
  {
   "cell_type": "markdown",
   "metadata": {},
   "source": [
    "Combine all separate graphs `G_device`, `G_bank`, and `G_card` into a single graph `G`"
   ]
  },
  {
   "cell_type": "code",
   "execution_count": 8,
   "metadata": {},
   "outputs": [],
   "source": [
    "G = nx.compose_all([G_device,G_bank,G_card])"
   ]
  },
  {
   "cell_type": "markdown",
   "metadata": {},
   "source": [
    "## Helper function\n",
    "\n",
    "Define a helper function to help with checking _whether two nodes are connected_. The `nx.bidirectional_dijkstra()` will throw an error when no path is found, so I use the `try` syntax to handle the error:\n",
    "- If there is an error, return 0 (meaning two nodes are __not connected__)\n",
    "- If there is no error, return 1 (meaning two nodes are __connected__)"
   ]
  },
  {
   "cell_type": "code",
   "execution_count": 9,
   "metadata": {},
   "outputs": [],
   "source": [
    "def is_connected(args):\n",
    "    try:\n",
    "        nx.bidirectional_dijkstra(G,args[0],args[1])\n",
    "    except:\n",
    "        return 0\n",
    "    else:\n",
    "        return 1"
   ]
  },
  {
   "cell_type": "markdown",
   "metadata": {},
   "source": [
    "Testing the function, using a known-to-be-connected pair of `userid`s"
   ]
  },
  {
   "cell_type": "code",
   "execution_count": 10,
   "metadata": {},
   "outputs": [
    {
     "data": {
      "text/plain": [
       "(0, ['70763052'])"
      ]
     },
     "execution_count": 10,
     "metadata": {},
     "output_type": "execute_result"
    }
   ],
   "source": [
    "nx.bidirectional_dijkstra(G,'70763052','70763052')"
   ]
  },
  {
   "cell_type": "code",
   "execution_count": 11,
   "metadata": {},
   "outputs": [
    {
     "data": {
      "text/plain": [
       "1"
      ]
     },
     "execution_count": 11,
     "metadata": {},
     "output_type": "execute_result"
    }
   ],
   "source": [
    "is_connected(['35545436','70763052'])"
   ]
  },
  {
   "cell_type": "markdown",
   "metadata": {},
   "source": [
    "## Execution\n",
    "\n",
    "Use the `.apply()` method to apply the function to each row. The parameters:\n",
    "- `axis=1`: to apply the function `is_connected` on each row instead of column (default behavior)\n",
    "- `raw=True`: the whole row will be passed to the function as __1 object__, instead of passing as individual parameters"
   ]
  },
  {
   "cell_type": "code",
   "execution_count": 12,
   "metadata": {},
   "outputs": [],
   "source": [
    "df_order['is_fraud'] = df_order.loc[:,['buyer_userid','seller_userid']].apply(is_connected,axis=1,raw=True)"
   ]
  },
  {
   "cell_type": "markdown",
   "metadata": {},
   "source": [
    "Total number of matching found"
   ]
  },
  {
   "cell_type": "code",
   "execution_count": 13,
   "metadata": {},
   "outputs": [
    {
     "data": {
      "text/plain": [
       "478"
      ]
     },
     "execution_count": 13,
     "metadata": {},
     "output_type": "execute_result"
    }
   ],
   "source": [
    "df_order.is_fraud.sum()"
   ]
  },
  {
   "cell_type": "markdown",
   "metadata": {},
   "source": [
    "Output the result to a `.csv` file"
   ]
  },
  {
   "cell_type": "code",
   "execution_count": 14,
   "metadata": {},
   "outputs": [],
   "source": [
    "df_order.to_csv('output_with_graph.csv',index=False,columns=['orderid','is_fraud'])"
   ]
  }
 ],
 "metadata": {
  "kernelspec": {
   "display_name": "Python 3",
   "language": "python",
   "name": "python3"
  },
  "language_info": {
   "codemirror_mode": {
    "name": "ipython",
    "version": 3
   },
   "file_extension": ".py",
   "mimetype": "text/x-python",
   "name": "python",
   "nbconvert_exporter": "python",
   "pygments_lexer": "ipython3",
   "version": "3.7.5"
  }
 },
 "nbformat": 4,
 "nbformat_minor": 2
}
