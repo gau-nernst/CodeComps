{
 "cells": [
  {
   "cell_type": "markdown",
   "metadata": {},
   "source": [
    "# Exercise 4: Circuit Decomposition\n",
    "Wow! If you managed to solve the first three exercises, congratulations! The fourth problem is supposed to puzzle even the quantum experts among you, so don’t worry if you cannot solve it. If you can, hats off to you!\n",
    "\n",
    "You may recall from your quantum mechanics course that quantum theory is unitary. Therefore, the evolution of any (closed) system can be described by a unitary. But given an arbitrary unitary, can you actually implement it on your quantum computer?\n",
    "\n",
    "**\"A set of quantum gates is said to be universal if any unitary transformation of the quantum data can be efficiently approximated arbitrarily well as a sequence of gates in the set.\"** (https://qiskit.org/textbook/ch-algorithms/defining-quantum-circuits.html)\n",
    "\n",
    "Every gate you run on the IBM Quantum Experience is transpiled into single qubit rotations and CNOT (CX) gates. We know that these constitute a universal gate set, which implies that any unitary can be implemented using only these gates. However, in general it is not easy to find a good decomposition for an arbitrary unitary. Your task is to find such a decomposition.\n",
    "\n",
    "You are given the following unitary:"
   ]
  },
  {
   "cell_type": "code",
   "execution_count": 1,
   "metadata": {
    "scrolled": false
   },
   "outputs": [
    {
     "name": "stdout",
     "output_type": "stream",
     "text": [
      "U has shape (16, 16)\n"
     ]
    }
   ],
   "source": [
    "from may4_challenge.ex4 import get_unitary\n",
    "U = get_unitary()\n",
    "#print(U)\n",
    "print(\"U has shape\", U.shape)"
   ]
  },
  {
   "cell_type": "markdown",
   "metadata": {},
   "source": [
    "#### What circuit would make such a complicated unitary?\n",
    "\n",
    "Is there some symmetry, or is it random? We just updated Qiskit with the introduction of a quantum circuit library (https://github.com/Qiskit/qiskit-terra/tree/master/qiskit/circuit/library). This library gives users access to a rich set of well-studied circuit families, instances of which can be used as benchmarks (quantum volume), as building blocks in building more complex circuits (adders), or as tools to explore quantum computational advantage over classical computation (instantaneous quantum polynomial complexity circuits)."
   ]
  },
  {
   "cell_type": "code",
   "execution_count": 2,
   "metadata": {},
   "outputs": [],
   "source": [
    "from qiskit import QuantumCircuit\n",
    "from may4_challenge.ex4 import check_circuit, submit_circuit"
   ]
  },
  {
   "cell_type": "markdown",
   "metadata": {},
   "source": [
    "**Using only single qubit rotations and CNOT gates, find a quantum circuit that approximates that unitary $U$ by a unitary $V$ up to an error $\\varepsilon = 0.01$, such that $\\lVert U - V\\rVert_2 \\leq \\varepsilon$ !** \n",
    "\n",
    "Note that the norm we are using here is the spectral norm, $\\qquad \\lVert A \\rVert_2 = \\max_{\\lVert \\psi \\rVert_2= 1} \\lVert A \\psi \\rVert$.\n",
    "\n",
    "This can be seen as the largest scaling factor that the matrix $A$ has on any initial (normalized) state $\\psi$. One can show that this norm corresponds to the largest singular value of $A$, i.e., the square root of the largest eigenvalue of the matrix $A^\\dagger A$, where $A^{\\dagger}$ denotes the conjugate transpose of $A$.\n",
    "\n",
    "**When you submit a circuit, we remove the global phase of the corresponding unitary $V$ before comparing it with $U$ using the spectral norm. For example, if you submit a circuit that generates $V = \\text{e}^{i\\theta}U$, we remove the global phase $\\text{e}^{i\\theta}$ from $V$ before computing the norm, and you will have a successful submission. As a result, you do not have to worry about matching the desired unitary, $U$, up to a global phase.**\n",
    "\n",
    "As the single-qubit gates have a much higher fidelity than the two-qubit gates, we will look at the number of CNOT-gates, $n_{cx}$, and the number of u3-gates, $n_{u3}$, to determine the cost of your decomposition as \n",
    "\n",
    "$$\n",
    "\\qquad \\text{cost} = 10 \\cdot n_{cx} + n_{u3}\n",
    "$$\n",
    "\n",
    "Try to optimize the cost of your decomposition. \n",
    "\n",
    "**Note that you will need to ensure that your circuit is composed only of $u3$ and $cx$ gates. The exercise is considered correctly solved if your cost is smaller than 1600.**\n",
    "\n",
    "---\n",
    "For useful tips to complete this exercise as well as pointers for communicating with other participants and asking questions, please take a look at the following [repository](https://github.com/qiskit-community/may4_challenge_exercises). You will also find a copy of these exercises, so feel free to edit and experiment with these notebooks.\n",
    "\n",
    "---"
   ]
  },
  {
   "cell_type": "code",
   "execution_count": 3,
   "metadata": {},
   "outputs": [],
   "source": [
    "# Import necessary packages for analysis and manipulation\n",
    "from qiskit import QuantumCircuit, execute, Aer\n",
    "from qiskit.visualization import plot_histogram\n",
    "from qiskit.quantum_info import Operator\n",
    "from qiskit.compiler import transpile\n",
    "import numpy as np\n",
    "import matplotlib.pyplot as plt"
   ]
  },
  {
   "cell_type": "code",
   "execution_count": 4,
   "metadata": {},
   "outputs": [],
   "source": [
    "# Function for visualizing the unitary matrix. It will plot a magnitude and a phase heatmap\n",
    "def plot(matrix):\n",
    "    plt.subplot(1,2,1)\n",
    "    mag = np.absolute(matrix)\n",
    "    phase = np.angle(matrix)\n",
    "    plt.imshow(np.absolute(matrix))\n",
    "    plt.subplot(1,2,2)\n",
    "    for i in range(matrix.shape[0]):\n",
    "        for j in range(matrix.shape[1]):\n",
    "            if mag[i][j] == 0:\n",
    "                phase[i][j] = 0\n",
    "    \n",
    "    plt.imshow(phase)"
   ]
  },
  {
   "cell_type": "code",
   "execution_count": 5,
   "metadata": {},
   "outputs": [
    {
     "data": {
      "image/png": "[encoded data removed]",
      "text/plain": [
       "<Figure size 432x288 with 2 Axes>"
      ]
     },
     "metadata": {
      "needs_background": "light"
     },
     "output_type": "display_data"
    }
   ],
   "source": [
    "plot(U)"
   ]
  },
  {
   "cell_type": "markdown",
   "metadata": {},
   "source": [
    "## Analysis\n",
    "\n",
    "There is a clear symmetry in the $U$ matrix. Hint from the reddit page reddit.com/r/may4quantum/ points to the Exercise 1 solution `[104, 52, 100, 97, 109, 65, 114, 100]`, which translates to `h4damArd` using the ASCII encoding scheme. The hint suggests using Hadamard gate.\n",
    "\n",
    "Hadamard gate is also symmetric, suggesting that H-gate may be an element of $U$ factorization. By trial and error, apply H-gate on all qubits seems to yield the best result.\n",
    "\n",
    "Using the intuition from Linear Algebra of diagonalization $A = PDP^{-1}$, I speculate that $U$ can be factorized into the following form:\n",
    "\n",
    "$$U = \\big(H(0)H(1)H(2)H(3)\\big)^{-1} \\cdot V \\cdot \\big(H(0)H(1)H(2)H(3)\\big)$$\n",
    "\n",
    "where $H(i)$ represents applying H-gate on qubit $i$ (not correct notation, but just for convenience and illustrating my approach), and $V$ is some matrix.\n",
    "\n",
    "To get $V$ from $U$, we simpply needs to do matrix multiplication\n",
    "\n",
    "$$V = \\big(H(0)H(1)H(2)H(3)\\big) \\cdot U \\cdot \\big(H(0)H(1)H(2)H(3)\\big)^{-1}$$"
   ]
  },
  {
   "cell_type": "markdown",
   "metadata": {},
   "source": [
    "### Obtaining $V$\n",
    "\n",
    "To get the H matrix and its inverse, I simply add those gates to a new Quantum Circuit and turn it into a matrix using the `Operator()` object. Finding inverse is with `numpy.linalg.inv()`\n",
    "\n",
    "```python\n",
    "qc = QuantumCircuit(4)\n",
    "qc.h(0)\n",
    "qc.h(1)\n",
    "qc.h(2)\n",
    "qc.h(3)\n",
    "\n",
    "h = Operator(qc).data\n",
    "hinv = np.linalg.inv(h)\n",
    "```\n",
    "\n",
    "Then just use matrix multiplication `numpy.matmul()` to do matrix multiplication.\n",
    "\n",
    "Surprisingly, $V$ is a diagonal matrix (See below)"
   ]
  },
  {
   "cell_type": "code",
   "execution_count": 6,
   "metadata": {},
   "outputs": [
    {
     "name": "stdout",
     "output_type": "stream",
     "text": [
      "[ 0.          0.78539816 -2.35619449  1.57079633  1.57079633 -0.78539816\n",
      "  2.35619449 -3.14159265  2.35619449  3.14159265  3.14159265  0.78539816\n",
      " -2.35619449  1.57079633  1.57079633  2.35619449]\n"
     ]
    },
    {
     "data": {
      "image/png": "[encoded data removed]",
      "text/plain": [
       "<Figure size 432x288 with 2 Axes>"
      ]
     },
     "metadata": {
      "needs_background": "light"
     },
     "output_type": "display_data"
    }
   ],
   "source": [
    "##### build your quantum circuit here\n",
    "qc = QuantumCircuit(4)\n",
    "# apply operations to your quantum circuit here\n",
    "qc.h(0)\n",
    "qc.h(1)\n",
    "qc.h(2)\n",
    "qc.h(3)\n",
    "\n",
    "h = Operator(qc).data\n",
    "hinv = np.linalg.inv(h)\n",
    "\n",
    "v = np.matmul(h,U)\n",
    "v = np.matmul(v,hinv)\n",
    "plot(v.round(10))\n",
    "print(np.angle(v.round(10).diagonal()))"
   ]
  },
  {
   "cell_type": "markdown",
   "metadata": {},
   "source": [
    "### Transpile diagonal matrix\n",
    "\n",
    "Qiskit has an efficient way to attach a diagonal gate to a circuit. Documentation can be found here:\n",
    "\n",
    "https://qiskit.org/documentation/stubs/qiskit.circuit.QuantumCircuit.diagonal.html#qiskit.circuit.QuantumCircuit.diagonal\n",
    "\n",
    "Create a new Quantum Circuit, attach the diagonal gate with the diagonal matrix $V$, and transpile it using `transpile()`"
   ]
  },
  {
   "cell_type": "code",
   "execution_count": 7,
   "metadata": {
    "scrolled": true
   },
   "outputs": [
    {
     "data": {
      "image/png": "[encoded data removed]",
      "text/plain": [
       "<Figure size 418.992x264.88 with 1 Axes>"
      ]
     },
     "execution_count": 7,
     "metadata": {},
     "output_type": "execute_result"
    }
   ],
   "source": [
    "qc_test = QuantumCircuit(4)\n",
    "qc_test.diagonal(v.round(10).diagonal().tolist(), [0,1,2,3])\n",
    "qc_test = qc_test.decompose()\n",
    "qc_test.draw()"
   ]
  },
  {
   "cell_type": "code",
   "execution_count": 8,
   "metadata": {},
   "outputs": [
    {
     "data": {
      "text/plain": [
       "24"
      ]
     },
     "execution_count": 8,
     "metadata": {},
     "output_type": "execute_result"
    }
   ],
   "source": [
    "qc = transpile(qc_test, basis_gates=['u3', 'cx'], optimization_level=2)\n",
    "qc.depth()"
   ]
  },
  {
   "cell_type": "code",
   "execution_count": 9,
   "metadata": {
    "scrolled": true
   },
   "outputs": [
    {
     "data": {
      "image/png": "[encoded data removed]",
      "text/plain": [
       "<Figure size 1683.19x565.88 with 1 Axes>"
      ]
     },
     "execution_count": 9,
     "metadata": {},
     "output_type": "execute_result"
    }
   ],
   "source": [
    "qc.draw()"
   ]
  },
  {
   "cell_type": "markdown",
   "metadata": {},
   "source": [
    "### Reconstruct $U$\n",
    "\n",
    "Note that\n",
    "\n",
    "$$U = \\big(H(0)H(1)H(2)H(3)\\big)^{-1} \\cdot V \\cdot \\big(H(0)H(1)H(2)H(3)\\big)$$\n",
    "\n",
    "Thus I rewrite those gates (manually).\n",
    "\n",
    "With some math, it can be easily determined that:\n",
    "\n",
    "$$H = H^{-1} = U_3(\\pi/2, 0, \\pi)$$"
   ]
  },
  {
   "cell_type": "code",
   "execution_count": 10,
   "metadata": {},
   "outputs": [
    {
     "data": {
      "text/plain": [
       "<qiskit.circuit.instructionset.InstructionSet at 0x7fa2e151d290>"
      ]
     },
     "execution_count": 10,
     "metadata": {},
     "output_type": "execute_result"
    }
   ],
   "source": [
    "qc = QuantumCircuit(4)\n",
    "qc.u3(np.pi/2, 0, np.pi,3)\n",
    "qc.u3(np.pi/2, 0, np.pi,2)\n",
    "qc.u3(np.pi/2, 0, np.pi,1)\n",
    "qc.u3(np.pi/2, 0, np.pi,0)\n",
    "\n",
    "qc.cx(1,0)\n",
    "qc.u3(0,0,np.pi/4,0)\n",
    "qc.cx(2,0)\n",
    "qc.u3(0,0,-np.pi/4,0)\n",
    "qc.cx(1,0)\n",
    "qc.u3(0,0,np.pi/4,0)\n",
    "qc.cx(3,0)\n",
    "qc.u3(0,0,3*np.pi/4,0)\n",
    "qc.cx(1,0)\n",
    "qc.u3(0,0,-np.pi/4,0)\n",
    "qc.cx(2,0)\n",
    "qc.u3(0,0,-np.pi/4,0)\n",
    "qc.cx(1,0)\n",
    "qc.u3(0,0,-np.pi/4,0)\n",
    "qc.cx(2,1)\n",
    "qc.u3(0,0,-np.pi/4,1)\n",
    "qc.cx(3,0)\n",
    "qc.cx(3,1)\n",
    "qc.u3(0,0,np.pi/4,1)\n",
    "qc.cx(2,1)\n",
    "qc.u3(0,0,-np.pi/4,1)\n",
    "qc.u3(0,0,-np.pi/4,2)\n",
    "qc.cx(3,1)\n",
    "qc.cx(3,2)\n",
    "qc.u3(0,0,np.pi/4,2)\n",
    "qc.cx(3,2)\n",
    "qc.u3(0,0,np.pi/2,3)\n",
    "\n",
    "qc.u3(np.pi/2, 0, np.pi,0)\n",
    "qc.u3(np.pi/2, 0, np.pi,1)\n",
    "qc.u3(np.pi/2, 0, np.pi,2)\n",
    "qc.u3(np.pi/2, 0, np.pi,3)"
   ]
  },
  {
   "cell_type": "code",
   "execution_count": 11,
   "metadata": {
    "scrolled": true
   },
   "outputs": [
    {
     "name": "stdout",
     "output_type": "stream",
     "text": [
      "Circuit stats:\n",
      "||U-V||_2 = 1.48563540657625e-15\n",
      "(U is the reference unitary, V is yours, and the global phase has been removed from both of them).\n",
      "Cost is 161\n",
      "\n",
      "Great! Your circuit meets all the constrains.\n",
      "Your score is 161. The lower, the better!\n",
      "Feel free to submit your answer and remember you can re-submit a new circuit at any time!\n"
     ]
    }
   ],
   "source": [
    "##### check your quantum circuit by running the next line\n",
    "check_circuit(qc)"
   ]
  },
  {
   "cell_type": "markdown",
   "metadata": {},
   "source": [
    "You can check whether your circuit is valid before submitting it with `check_circuit(qc)`. Once you have a valid solution, please submit it by running the following cell (delete the `#` before `submit_circuit`). You can re-submit at any time.\n"
   ]
  },
  {
   "cell_type": "code",
   "execution_count": 12,
   "metadata": {},
   "outputs": [
    {
     "data": {
      "text/html": [
       "\n",
       "        <div style=\"border: 2px solid black; padding: 2rem;\">\n",
       "            <p>\n",
       "                Success 🎉! Your circuit has been submitted. Return to the\n",
       "                <a href=\"https://quantum-computing.ibm.com/challenges/4anniversary/?exercise=4\" target=\"_blank\">\n",
       "                    IBM Quantum Challenge page\n",
       "                </a>\n",
       "                and check your score and ranking.\n",
       "            </p>\n",
       "            <p>\n",
       "                Remember that you can submit a circuit as many times as you\n",
       "                want.\n",
       "            </p>\n",
       "        </div>"
      ],
      "text/plain": [
       "<IPython.core.display.HTML object>"
      ]
     },
     "metadata": {},
     "output_type": "display_data"
    }
   ],
   "source": [
    "# Send the circuit as the final answer, can re-submit at any time\n",
    "submit_circuit(qc) "
   ]
  }
 ],
 "metadata": {
  "kernelspec": {
   "display_name": "Python 3",
   "language": "python",
   "name": "python3"
  },
  "language_info": {
   "codemirror_mode": {
    "name": "ipython",
    "version": 3
   },
   "file_extension": ".py",
   "mimetype": "text/x-python",
   "name": "python",
   "nbconvert_exporter": "python",
   "pygments_lexer": "ipython3",
   "version": "3.7.6"
  }
 },
 "nbformat": 4,
 "nbformat_minor": 4
}
